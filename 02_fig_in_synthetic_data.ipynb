{
 "cells": [
  {
   "cell_type": "markdown",
   "metadata": {
    "toc": true
   },
   "source": [
    "<h1>Table of Contents<span class=\"tocSkip\"></span></h1>\n",
    "<div class=\"toc\"><ul class=\"toc-item\"><li><span><a href=\"#Feature-Inversion-in-Synthetic-Data\" data-toc-modified-id=\"Feature-Inversion-in-Synthetic-Data-1\"><span class=\"toc-item-num\">1&nbsp;&nbsp;</span>Feature Inversion in Synthetic Data</a></span><ul class=\"toc-item\"><li><span><a href=\"#Train-Models-on-Synthetic-Data\" data-toc-modified-id=\"Train-Models-on-Synthetic-Data-1.1\"><span class=\"toc-item-num\">1.1&nbsp;&nbsp;</span>Train Models on Synthetic Data</a></span><ul class=\"toc-item\"><li><span><a href=\"#Dataset\" data-toc-modified-id=\"Dataset-1.1.1\"><span class=\"toc-item-num\">1.1.1&nbsp;&nbsp;</span>Dataset</a></span></li><li><span><a href=\"#Train-Standard-Model\" data-toc-modified-id=\"Train-Standard-Model-1.1.2\"><span class=\"toc-item-num\">1.1.2&nbsp;&nbsp;</span>Train Standard Model</a></span></li><li><span><a href=\"#Train-Adversarially-Robust-Model\" data-toc-modified-id=\"Train-Adversarially-Robust-Model-1.1.3\"><span class=\"toc-item-num\">1.1.3&nbsp;&nbsp;</span>Train Adversarially Robust Model</a></span></li><li><span><a href=\"#Evaluating-Standard-and-Robust-Models\" data-toc-modified-id=\"Evaluating-Standard-and-Robust-Models-1.1.4\"><span class=\"toc-item-num\">1.1.4&nbsp;&nbsp;</span>Evaluating Standard and Robust Models</a></span></li></ul></li><li><span><a href=\"#Evaluating-Input-Gradients\" data-toc-modified-id=\"Evaluating-Input-Gradients-1.2\"><span class=\"toc-item-num\">1.2&nbsp;&nbsp;</span>Evaluating Input Gradients</a></span></li></ul></li></ul></div>"
   ]
  },
  {
   "cell_type": "markdown",
   "metadata": {},
   "source": [
    "# Feature Inversion in Synthetic Data\n",
    "In this notebook, we show that standard and robust fully-connected networks (FCNs) trained on a simple synthetic data distribution exhibit FIG (feature inversion in gradeints) and RF-FIG (robustness fixes FIG). The synthetic dataset comprises data points where the label $y=\\pm 1$ with probability $0.5$ and $x=y \\cdot e_j$ where $j$ is chosen uniformly at random from $\\{1,...,d\\}$. \n",
    "\n",
    "See Section 5 of the [paper](https://arxiv.org/abs/2102.12781) for more information about (i) the dataset and (ii) a theoretical justification that justifies our counter-intuitive empirical findings on FIG and RF-FIG. For more information about the evaluation framework, see Section 3 of our [paper](https://arxiv.org/abs/2102.12781). Finally, to know more about obtaining attribution-masked data and retraining models on masked datasets, check out the README files and scripts in this repository."
   ]
  },
  {
   "cell_type": "code",
   "execution_count": 3,
   "metadata": {
    "ExecuteTime": {
     "end_time": "2021-02-24T11:47:30.350536Z",
     "start_time": "2021-02-24T11:47:30.315077Z"
    }
   },
   "outputs": [
    {
     "name": "stdout",
     "output_type": "stream",
     "text": [
      "The autoreload extension is already loaded. To reload it, use:\n",
      "  %reload_ext autoreload\n"
     ]
    }
   ],
   "source": [
    "%load_ext autoreload\n",
    "%autoreload 2\n",
    "%matplotlib inline\n",
    "\n",
    "import os\n",
    "import sys\n",
    "import json \n",
    "import random\n",
    "import time\n",
    "from collections import defaultdict\n",
    "import matplotlib as mpl\n",
    "import matplotlib.pyplot as plt\n",
    "\n",
    "import torch\n",
    "import numpy as np\n",
    "import seaborn as sns\n",
    "import torch.nn.functional as F\n",
    "from torch import nn, optim\n",
    "from robustness.model_utils import make_and_restore_model\n",
    "from robustness.datasets import CIFAR\n",
    "\n",
    "sys.path.append('scripts/')\n",
    "import utils\n",
    "import data_utils as du\n",
    "import gpu_utils as gu\n",
    "import ptb_utils as au\n",
    "import misc_utils as mu\n",
    "import synth_models as sm\n",
    "from synthetic_data import SemiRandomSignalCoordinate"
   ]
  },
  {
   "cell_type": "markdown",
   "metadata": {},
   "source": [
    "## Train Models on Synthetic Data\n",
    "In this section, we present the code for the synthetic data (see ```get_dataset()```) and train standard and adversarially robust models on the dataset. Then, we evaluate the adversarial robustness of the standard and adversarially trained models on test data. In particular, we train a one-hidden-layer ReLU FCN with width $20000$ on a $10$-dimensional synthetic dataset with learning rate $0.1$ for $1500$ epochs, until the models obtain small standard and/or adversarial test loss."
   ]
  },
  {
   "cell_type": "code",
   "execution_count": 40,
   "metadata": {
    "ExecuteTime": {
     "end_time": "2021-02-24T13:26:30.892722Z",
     "start_time": "2021-02-24T13:26:30.862206Z"
    }
   },
   "outputs": [],
   "source": [
    "def get_dataset(): \n",
    "    args = {\n",
    "        'input_dim': 10,\n",
    "        'num_train': 10_000,\n",
    "        'num_test': 1_000,\n",
    "        'batch_size': 250\n",
    "    }\n",
    "    \n",
    "    sd_tr = SemiRandomSignalCoordinate(args['input_dim'], 1, 1./args['input_dim'])\n",
    "    sd_te = SemiRandomSignalCoordinate(args['input_dim'], 1, 1./args['input_dim'])\n",
    "\n",
    "    tr_dl = sd_tr.get_dataloader(args['num_train'], args['batch_size'])\n",
    "    te_dl = sd_te.get_dataloader(args['num_test'], args['batch_size'])\n",
    "\n",
    "    return {\n",
    "        'obj': (sd_tr, sd_te),\n",
    "        'loaders': (tr_dl, te_dl)\n",
    "    }\n",
    "\n",
    "def get_model(device):\n",
    "    args = {\n",
    "        'input_dim': 10,\n",
    "        'num_classes': 2,\n",
    "        'width': 25_000, \n",
    "        'depth': 1, \n",
    "        'activation': nn.ReLU,\n",
    "        'lr': 0.1,\n",
    "        'weight_decay': 0.0,\n",
    "        'momentum': 0.0,\n",
    "        'decay_gap': 50,\n",
    "        'decay_factor': 0.75\n",
    "    }\n",
    "    \n",
    "    model = sm.get_fcn(args['input_dim'], args['width'], \n",
    "                       args['num_classes'], activation=args['activation'])\n",
    "    model = model.to(device)\n",
    "    \n",
    "    opt = optim.SGD(model.parameters(), lr=args['lr'], \n",
    "                    weight_decay=args['weight_decay'], \n",
    "                    momentum=args['momentum'])\n",
    "    \n",
    "    def lr_scheduler(epoch):\n",
    "        pow = epoch//args['decay_gap']\n",
    "        return max(0.01, args['decay_factor']**pow)\n",
    "\n",
    "    sched = optim.lr_scheduler.LambdaLR(opt, lr_scheduler)\n",
    "\n",
    "    return model, opt, sched\n",
    "\n",
    "def linf_pgd_adversarial_training(train_data, test_data, epsilon, data_bounds, device):\n",
    "    # setup attack\n",
    "    attack = au.Linf_PGD_Attack(epsilon, lr=0.25*epsilon, num_iter=8, loss_type='untargeted', \n",
    "                                rand_eps=0.0, num_classes=2, bounds=data_bounds, device=device)\n",
    "\n",
    "    # setup model\n",
    "    model, opt, sched = get_model(device)\n",
    "    \n",
    "    # train for 500 epochs\n",
    "    stats = utils.pgd_adv_fit_model(model, opt, train_data, test_data, attack, \n",
    "                                    sch=sched, min_loss=0.0, max_epochs=500, \n",
    "                                    device=device, epoch_gap=10)\n",
    "    \n",
    "    return stats, model.cpu()"
   ]
  },
  {
   "cell_type": "markdown",
   "metadata": {},
   "source": [
    "### Dataset"
   ]
  },
  {
   "cell_type": "code",
   "execution_count": 41,
   "metadata": {
    "ExecuteTime": {
     "end_time": "2021-02-24T13:26:33.719151Z",
     "start_time": "2021-02-24T13:26:32.251647Z"
    }
   },
   "outputs": [
    {
     "data": {
      "image/png": "[encoded data removed]",
      "text/plain": [
       "<Figure size 432x288 with 2 Axes>"
      ]
     },
     "metadata": {
      "needs_background": "light"
     },
     "output_type": "display_data"
    }
   ],
   "source": [
    "# visualize subsample of dataset\n",
    "dataset = get_dataset()\n",
    "bounds = dataset['obj'][0].bounds\n",
    "train_data, test_data = dataset['loaders']\n",
    "\n",
    "fig, ax = plt.subplots(1,1,figsize=(6,4))\n",
    "ax = sns.heatmap(dataset['obj'][1].X[:25], linewidth=0.1)\n",
    "utils.update_ax(ax, r'Synthetic Dataset: $\\{(y\\cdot e_j, y)\\}^{n}_1$', 'Coordinates', 'Data points', \n",
    "                legend_loc=False, despine=False, title_fs=20, label_fs=18)\n",
    "\n",
    "fig.savefig('plots/synthetic_data.pdf', dpi=fig.dpi, bbox_inches='tight')"
   ]
  },
  {
   "cell_type": "markdown",
   "metadata": {},
   "source": [
    "### Train Standard Model"
   ]
  },
  {
   "cell_type": "code",
   "execution_count": 42,
   "metadata": {
    "ExecuteTime": {
     "end_time": "2021-02-24T13:27:40.234760Z",
     "start_time": "2021-02-24T13:26:34.515205Z"
    }
   },
   "outputs": [
    {
     "name": "stdout",
     "output_type": "stream",
     "text": [
      "Min loss: 0.0\n",
      "Epoch\tl-tr\ta-tr\ta-te\ts-te\ttime\n",
      "0   0.8625   0.9212   1.0000   1.0000   0.1469\n",
      "10   0.0000   1.0000   1.0000   1.0000   1.3617\n",
      "20   0.0000   1.0000   1.0000   1.0000   1.2811\n",
      "30   0.0000   1.0000   1.0000   1.0000   1.3431\n",
      "40   0.0000   1.0000   1.0000   1.0000   1.2692\n",
      "Epoch 49, LR : 0.1 -> 0.07500000000000001\n",
      "50   0.0000   1.0000   1.0000   1.0000   1.2779\n",
      "60   0.0000   1.0000   1.0000   1.0000   1.3465\n",
      "70   0.0000   1.0000   1.0000   1.0000   1.2857\n",
      "80   0.0000   1.0000   1.0000   1.0000   1.3662\n",
      "90   0.0000   1.0000   1.0000   1.0000   1.2961\n",
      "Epoch 99, LR : 0.07500000000000001 -> 0.05625\n",
      "100   0.0000   1.0000   1.0000   1.0000   1.2805\n",
      "110   0.0000   1.0000   1.0000   1.0000   1.3496\n",
      "120   0.0000   1.0000   1.0000   1.0000   1.2786\n",
      "130   0.0000   1.0000   1.0000   1.0000   1.3545\n",
      "140   0.0000   1.0000   1.0000   1.0000   1.2796\n",
      "Epoch 149, LR : 0.05625 -> 0.0421875\n",
      "150   0.0000   1.0000   1.0000   1.0000   1.3505\n",
      "160   0.0000   1.0000   1.0000   1.0000   1.2799\n",
      "170   0.0000   1.0000   1.0000   1.0000   1.3080\n",
      "180   0.0000   1.0000   1.0000   1.0000   1.3637\n",
      "190   0.0000   1.0000   1.0000   1.0000   1.2848\n",
      "Epoch 199, LR : 0.0421875 -> 0.031640625\n",
      "200   0.0000   1.0000   1.0000   1.0000   1.3533\n",
      "210   0.0000   1.0000   1.0000   1.0000   1.2900\n",
      "220   0.0000   1.0000   1.0000   1.0000   1.2914\n",
      "230   0.0000   1.0000   1.0000   1.0000   1.3463\n",
      "240   0.0000   1.0000   1.0000   1.0000   1.2923\n",
      "Epoch 249, LR : 0.031640625 -> 0.02373046875\n",
      "250   0.0000   1.0000   1.0000   1.0000   1.3320\n",
      "260   0.0000   1.0000   1.0000   1.0000   1.2930\n",
      "270   0.0000   1.0000   1.0000   1.0000   1.2698\n",
      "280   0.0000   1.0000   1.0000   1.0000   1.3658\n",
      "290   0.0000   1.0000   1.0000   1.0000   1.2609\n",
      "Epoch 299, LR : 0.02373046875 -> 0.0177978515625\n",
      "300   0.0000   1.0000   1.0000   1.0000   1.3345\n",
      "310   0.0000   1.0000   1.0000   1.0000   1.2796\n",
      "320   0.0000   1.0000   1.0000   1.0000   1.2973\n",
      "330   0.0000   1.0000   1.0000   1.0000   1.3687\n",
      "340   0.0000   1.0000   1.0000   1.0000   1.2701\n",
      "Epoch 349, LR : 0.0177978515625 -> 0.013348388671875001\n",
      "350   0.0000   1.0000   1.0000   1.0000   1.3530\n",
      "360   0.0000   1.0000   1.0000   1.0000   1.3389\n",
      "370   0.0000   1.0000   1.0000   1.0000   1.3493\n",
      "380   0.0000   1.0000   1.0000   1.0000   1.2777\n",
      "390   0.0000   1.0000   1.0000   1.0000   1.2694\n",
      "Epoch 399, LR : 0.013348388671875001 -> 0.01001129150390625\n",
      "400   0.0000   1.0000   1.0000   1.0000   1.3565\n",
      "410   0.0000   1.0000   1.0000   1.0000   1.2719\n",
      "420   0.0000   1.0000   1.0000   1.0000   1.3477\n",
      "430   0.0000   1.0000   1.0000   1.0000   1.2812\n",
      "440   0.0000   1.0000   1.0000   1.0000   1.2889\n",
      "Epoch 449, LR : 0.01001129150390625 -> 0.007508468627929688\n",
      "450   0.0000   1.0000   1.0000   1.0000   1.3417\n",
      "460   0.0000   1.0000   1.0000   1.0000   1.2838\n",
      "470   0.0000   1.0000   1.0000   1.0000   1.3531\n",
      "480   0.0000   1.0000   1.0000   1.0000   1.2967\n",
      "490   0.0000   1.0000   1.0000   1.0000   1.3114\n",
      "Epoch 499, LR : 0.007508468627929688 -> 0.005631351470947266\n"
     ]
    }
   ],
   "source": [
    "device = gu.get_device(0) # change 0 to None if cpu\n",
    "epsilon = 0.0 # standard training\n",
    "\n",
    "std_stats, std_model = linf_pgd_adversarial_training(train_data, test_data, epsilon, bounds, device)"
   ]
  },
  {
   "cell_type": "markdown",
   "metadata": {},
   "source": [
    "### Train Adversarially Robust Model"
   ]
  },
  {
   "cell_type": "code",
   "execution_count": 43,
   "metadata": {
    "ExecuteTime": {
     "end_time": "2021-02-24T13:33:25.510779Z",
     "start_time": "2021-02-24T13:27:40.236284Z"
    }
   },
   "outputs": [
    {
     "name": "stdout",
     "output_type": "stream",
     "text": [
      "Min loss: 0.0\n",
      "Epoch\tl-tr\ta-tr\ta-te\ts-te\ttime\n",
      "0   37.1659   0.0157   0.0000   0.4790   0.7836\n",
      "10   14.3692   0.0020   0.0000   0.5520   6.9158\n",
      "20   5.1011   0.0013   0.0000   0.8940   7.0665\n",
      "30   2.2670   0.0124   0.0410   1.0000   6.9280\n",
      "40   1.4748   0.0529   0.0410   1.0000   6.9262\n",
      "Epoch 49, LR : 0.1 -> 0.07500000000000001\n",
      "50   0.7085   0.5650   0.7090   1.0000   6.9216\n",
      "60   0.8215   0.2833   0.1350   1.0000   6.9013\n",
      "70   0.7996   0.3048   0.5890   1.0000   6.9371\n",
      "80   0.8328   0.2765   0.2730   1.0000   6.8229\n",
      "90   0.7538   0.4643   0.7600   1.0000   6.9513\n",
      "Epoch 99, LR : 0.07500000000000001 -> 0.05625\n",
      "100   0.6460   0.8207   0.8330   1.0000   6.8618\n",
      "110   0.6430   0.7924   0.6740   1.0000   6.8561\n",
      "120   0.6531   0.7570   0.8640   1.0000   7.0416\n",
      "130   0.6563   0.7062   0.6910   1.0000   6.8761\n",
      "140   0.6347   0.7744   0.8180   1.0000   7.0031\n",
      "Epoch 149, LR : 0.05625 -> 0.0421875\n",
      "150   0.5867   0.9655   0.9070   1.0000   6.8941\n",
      "160   0.5776   0.9770   1.0000   1.0000   6.8731\n",
      "170   0.5618   0.9846   0.9040   1.0000   6.8993\n",
      "180   0.5500   0.9899   1.0000   1.0000   6.9345\n",
      "190   0.5394   0.9953   1.0000   1.0000   6.9470\n",
      "Epoch 199, LR : 0.0421875 -> 0.031640625\n",
      "200   0.5164   0.9993   1.0000   1.0000   6.8579\n",
      "210   0.5073   0.9989   1.0000   1.0000   6.8541\n",
      "220   0.4962   1.0000   1.0000   1.0000   6.9988\n",
      "230   0.4838   1.0000   1.0000   1.0000   6.8642\n",
      "240   0.4716   1.0000   1.0000   1.0000   6.8932\n",
      "Epoch 249, LR : 0.031640625 -> 0.02373046875\n",
      "250   0.4558   1.0000   1.0000   1.0000   6.8538\n",
      "260   0.4483   1.0000   1.0000   1.0000   6.9114\n",
      "270   0.4384   1.0000   1.0000   1.0000   6.9079\n",
      "280   0.4312   1.0000   1.0000   1.0000   6.8747\n",
      "290   0.4206   1.0000   1.0000   1.0000   6.9838\n",
      "Epoch 299, LR : 0.02373046875 -> 0.0177978515625\n",
      "300   0.4098   1.0000   1.0000   1.0000   6.8401\n",
      "310   0.4027   1.0000   1.0000   1.0000   6.9059\n",
      "320   0.3957   1.0000   1.0000   1.0000   6.8551\n",
      "330   0.3886   1.0000   1.0000   1.0000   6.9055\n",
      "340   0.3826   1.0000   1.0000   1.0000   6.9693\n",
      "Epoch 349, LR : 0.0177978515625 -> 0.013348388671875001\n",
      "350   0.3742   1.0000   1.0000   1.0000   6.8387\n",
      "360   0.3702   1.0000   1.0000   1.0000   6.8874\n",
      "370   0.3644   1.0000   1.0000   1.0000   6.8273\n",
      "380   0.3600   1.0000   1.0000   1.0000   6.8544\n",
      "390   0.3540   1.0000   1.0000   1.0000   6.9896\n",
      "Epoch 399, LR : 0.013348388671875001 -> 0.01001129150390625\n",
      "400   0.3481   1.0000   1.0000   1.0000   6.8794\n",
      "410   0.3458   1.0000   1.0000   1.0000   6.9521\n",
      "420   0.3431   1.0000   1.0000   1.0000   6.8243\n",
      "430   0.3388   1.0000   1.0000   1.0000   6.8032\n",
      "440   0.3344   1.0000   1.0000   1.0000   6.9219\n",
      "Epoch 449, LR : 0.01001129150390625 -> 0.007508468627929688\n",
      "450   0.3301   1.0000   1.0000   1.0000   6.8550\n",
      "460   0.3284   1.0000   1.0000   1.0000   6.9182\n",
      "470   0.3259   1.0000   1.0000   1.0000   6.8633\n",
      "480   0.3232   1.0000   1.0000   1.0000   6.9905\n",
      "490   0.3203   1.0000   1.0000   1.0000   6.9240\n",
      "Epoch 499, LR : 0.007508468627929688 -> 0.005631351470947266\n"
     ]
    }
   ],
   "source": [
    "device = gu.get_device(0) # change 0 to None if cpu\n",
    "epsilon = 0.45 \n",
    "\n",
    "linf_stats, linf_model = linf_pgd_adversarial_training(train_data, test_data, epsilon, bounds, device)"
   ]
  },
  {
   "cell_type": "markdown",
   "metadata": {},
   "source": [
    "### Evaluating Standard and Robust Models"
   ]
  },
  {
   "cell_type": "code",
   "execution_count": 44,
   "metadata": {
    "ExecuteTime": {
     "end_time": "2021-02-24T13:33:52.813127Z",
     "start_time": "2021-02-24T13:33:50.857303Z"
    }
   },
   "outputs": [
    {
     "data": {
      "image/png": "[encoded data removed]",
      "text/plain": [
       "<Figure size 720x288 with 1 Axes>"
      ]
     },
     "metadata": {
      "needs_background": "light"
     },
     "output_type": "display_data"
    }
   ],
   "source": [
    "device = gu.get_device(0)\n",
    "accs = {}\n",
    "epsilons = np.linspace(0, 0.5, 11)\n",
    "\n",
    "models = {\n",
    "    r'Standard': std_model, \n",
    "    r'Robust': linf_model\n",
    "}\n",
    "\n",
    "labels = {\n",
    "    'Standard': r'Standard ($\\epsilon=0$)',\n",
    "    'Robust': r'$\\ell_{\\infty}$ Robust ($\\epsilon=0.45$)'\n",
    "}\n",
    "\n",
    "pgd_attack = lambda eps: au.Linf_PGD_Attack(eps, 0.25*eps, 8, 'untargeted', \n",
    "                                            rand_eps=0., num_classes=2, \n",
    "                                            bounds=bounds, device=device)\n",
    "\n",
    "for model_name, model in models.items():\n",
    "    model = model.to(device)\n",
    "    accs[model_name] = mu.evaluate_robustness([model], test_data, pgd_attack, \n",
    "                                              epsilons, device, print_info=False)[0]\n",
    "    model = model.cpu()\n",
    "    del model\n",
    "    \n",
    "fig, ax = plt.subplots(1,1,figsize=(10,4))\n",
    "for model_name, model_accs in accs.items():\n",
    "    x, y = map(np.array, zip(*sorted(model_accs.items())))\n",
    "    ax.plot(x, y, marker='o', ms=5, mfc='w', mew=2, lw=2, ls='--', label=labels[model_name])\n",
    "ax.axvline(0.45, color='red', ls='--', label=r'$\\epsilon=0.45$')\n",
    "utils.update_ax(ax, r'Evaluating Accuracy and Robustness | Synthetic Data', \n",
    "                r'Perturbation Budget', r'Robust Accuracy', ticks_fs=14, label_fs=18, title_fs=20)\n",
    "ax.grid()\n",
    "ax.legend(loc='best', ncol=1, fontsize=14, frameon=True, fancybox=True)\n",
    "\n",
    "ax.set_ylim(-0.05,1.05)\n",
    "\n",
    "fig.savefig('plots/synthetic_data_robustness.pdf', dpi=fig.dpi, bbox_inches='tight')"
   ]
  },
  {
   "cell_type": "markdown",
   "metadata": {},
   "source": [
    "As shown above, adversarially training FCNs with $\\ell_{\\infty}$ perturbation budget of $\\epsilon=0.45$ confers adversarial robustness at test time that is significantly more than that of standard FCNs ($\\epsilon=0$). Next, we evaluate the input gradients of these two models to illustrate FIG and RF-FIG on the synthetic dataset."
   ]
  },
  {
   "cell_type": "markdown",
   "metadata": {},
   "source": [
    "## Evaluating Input Gradients\n",
    "In this section, we evaluate whether input gradients of standard and adversarially \n",
    "robust models that are trained on synthetic data highlight instance-specific\n",
    "features that are relevant and _necessary_ for prediction in this dataset.\n",
    "We first evaluate whether top-$k$ and bottom-$k$ gradient attributions higlight\n",
    "the \"signal\" coordinate $j$ for the data point $(y \\cdot e_j, y)$. We then provide \n",
    "visualizations of the input gradients of standard and robust models, which\n",
    "further substantiate FIG and RF-FIG."
   ]
  },
  {
   "cell_type": "code",
   "execution_count": 45,
   "metadata": {
    "ExecuteTime": {
     "end_time": "2021-02-24T13:33:58.021882Z",
     "start_time": "2021-02-24T13:33:57.971177Z"
    }
   },
   "outputs": [],
   "source": [
    "# compute loss gradients w.r.t. input \n",
    "test_dataset = dataset['obj'][1]\n",
    "device = gu.get_device(0)\n",
    "\n",
    "grads = {}\n",
    "for model_name, model in models.items():\n",
    "    model = model.to(device)\n",
    "    grads[model_name] = test_dataset.get_input_gradients(model, device)\n",
    "    model = model.cpu()"
   ]
  },
  {
   "cell_type": "code",
   "execution_count": 46,
   "metadata": {
    "ExecuteTime": {
     "end_time": "2021-02-24T13:33:59.485979Z",
     "start_time": "2021-02-24T13:33:59.258301Z"
    }
   },
   "outputs": [
    {
     "name": "stdout",
     "output_type": "stream",
     "text": [
      "Pr[bottom-most gradient attribution higlights signal]\n",
      "Standard Model: 0.562\n",
      "Robust Model: 0.000\n"
     ]
    }
   ],
   "source": [
    "# FIG: bottom-most input gradient coordinate highlights signal coordinate of data point in standard models\n",
    "print (\"Pr[bottom-most gradient attribution higlights signal]\")\n",
    "\n",
    "for model_name, G in grads.items():\n",
    "    tracker = []\n",
    "    for x, g in zip(test_dataset.X, G):\n",
    "        signal_coord = np.argsort(np.abs(x))[-1]\n",
    "        grad_coord = np.argsort(np.abs(g))[0]\n",
    "        tracker.append(float(signal_coord==grad_coord))\n",
    "    print (\"{} Model: {:.3f}\".format(model_name, np.mean(tracker)))"
   ]
  },
  {
   "cell_type": "code",
   "execution_count": 47,
   "metadata": {
    "ExecuteTime": {
     "end_time": "2021-02-24T13:34:00.824125Z",
     "start_time": "2021-02-24T13:34:00.591379Z"
    }
   },
   "outputs": [
    {
     "name": "stdout",
     "output_type": "stream",
     "text": [
      "Pr[top-most gradient attribution higlights signal]\n",
      "Standard Model: 0.041\n",
      "Robust Model: 1.000\n"
     ]
    }
   ],
   "source": [
    "# RG-FIG: top-most input gradient coordinate highlights signal coordinate of data point in robust models\n",
    "print (\"Pr[top-most gradient attribution higlights signal]\")\n",
    "\n",
    "for model_name, G in grads.items():\n",
    "    tracker = []\n",
    "    for x, g in zip(test_dataset.X, G):\n",
    "        signal_coord = np.argsort(np.abs(x))[-1]\n",
    "        grad_coord = np.argsort(np.abs(g))[-1]\n",
    "        tracker.append(float(signal_coord==grad_coord))\n",
    "    print (\"{} Model: {:.3f}\".format(model_name, np.mean(tracker)))"
   ]
  },
  {
   "cell_type": "markdown",
   "metadata": {},
   "source": [
    "Therefore, the attribution quality, $AQ(\\mathcal{A}_{\\mathcal{G}}, 1)$ (i.e., at level $k=1$) \n",
    "of standard and robust FCNs is $-0.521$ and $1.000$ respectively."
   ]
  },
  {
   "cell_type": "code",
   "execution_count": 54,
   "metadata": {
    "ExecuteTime": {
     "end_time": "2021-02-24T13:47:24.168583Z",
     "start_time": "2021-02-24T13:47:22.855685Z"
    }
   },
   "outputs": [
    {
     "data": {
      "image/png": "[encoded data removed]",
      "text/plain": [
       "<Figure size 1296x360 with 6 Axes>"
      ]
     },
     "metadata": {
      "needs_background": "light"
     },
     "output_type": "display_data"
    }
   ],
   "source": [
    "# visualizing input gradients of standard and robust models\n",
    "fig, axs = plt.subplots(1,3,figsize=(18, 5))\n",
    "xticks = np.arange(1,11)\n",
    "\n",
    "# plot dataset\n",
    "sns.heatmap(np.abs(test_dataset.X[:50]), ax=axs[0], vmin=0, \n",
    "            vmax=1, linewidth=0.01, yticklabels=False, xticklabels=xticks)\n",
    "axs[0].tick_params(which='both', axis='both', length=3)\n",
    "axs[0].set_xticklabels(xticks, fontsize=13)\n",
    "\n",
    "utils.update_ax(axs[0], title=r'Input Data', xlabel=r'Coordinates', ylabel=r'Data Points', \n",
    "                ticks_fs=15, label_fs=18, title_fs=22, despine=False, legend_loc=False)\n",
    "\n",
    "for ax, (model_name, G) in zip(axs[1:], grads.items()):\n",
    "    # normalize gradients to improve visualization\n",
    "    G = np.abs(G[:50])\n",
    "    G /= G.max(axis=1).reshape(-1, 1)\n",
    "\n",
    "    # plot gradients\n",
    "    ax = sns.heatmap(G, ax=ax, vmax=1, vmin=0.8, linewidth=0.01, yticklabels=False, xticklabels=xticks)\n",
    "    utils.update_ax(ax, title=labels[model_name], xlabel=r'Coordinates', ylabel=r'Input Gradients', \n",
    "                    ticks_fs=15, label_fs=18, title_fs=22, despine=False, legend_loc=False)\n",
    "\n",
    "    ax.tick_params(which='both', axis='both', length=3)\n",
    "    ax.set_xticklabels(xticks, fontsize=15)\n",
    "    \n",
    "sup = fig.suptitle('Input Gradients on Synthetic Data', y=1.04, fontsize=23)\n",
    "fig.savefig('plots/feature_inversion_synthetic_data.pdf', dpi=fig.dpi, bbox_inches='tight', bbox_extra_artists=[sup])"
   ]
  },
  {
   "cell_type": "markdown",
   "metadata": {},
   "source": [
    "The three subplots above visualize the input data points, the input gradients of standard fully-connected network (FCN), and the input gradients of adversarially trained FCN respectively:\n",
    "- The first subplot illustrates data points sampled from the synthetic distribution; the columns and rows denote input coordinates and individual data points that are sampled from the synthetic data distribution described in Section 5 of the paper.\n",
    "- Ths second subplot substantiates FIG, as the minimum magnitude coordinate (darker in color) of standard input gradients often, but not always, highlights the relevant signal coordinate $j$ of the input data points. \n",
    "- The third subplot substantiates RF-FIG, as the maximum magnitude coordinate of robust input gradients consistently highlights the relevant signal coordinates. \n",
    "- As discussed in the appendix, the mean absolute cosine similarity between input and input gradients of standard and robust models are 0.29 and 1.00, indicating that unlike standard models, robust models’ input gradients are directionally (and visually) aligned with input data."
   ]
  }
 ],
 "metadata": {
  "kernelspec": {
   "display_name": "Python 3",
   "language": "python",
   "name": "python3"
  },
  "language_info": {
   "codemirror_mode": {
    "name": "ipython",
    "version": 3
   },
   "file_extension": ".py",
   "mimetype": "text/x-python",
   "name": "python",
   "nbconvert_exporter": "python",
   "pygments_lexer": "ipython3",
   "version": "3.7.7"
  },
  "toc": {
   "base_numbering": 1,
   "nav_menu": {},
   "number_sections": true,
   "sideBar": true,
   "skip_h1_title": false,
   "title_cell": "Table of Contents",
   "title_sidebar": "Contents",
   "toc_cell": true,
   "toc_position": {
    "height": "calc(100% - 180px)",
    "left": "10px",
    "top": "150px",
    "width": "246px"
   },
   "toc_section_display": true,
   "toc_window_display": true
  }
 },
 "nbformat": 4,
 "nbformat_minor": 4
}
